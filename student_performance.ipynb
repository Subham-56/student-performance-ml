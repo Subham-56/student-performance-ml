{
 "cells": [
  {
   "cell_type": "markdown",
   "id": "169cf14f",
   "metadata": {},
   "source": [
    "##### MODEL TRAINING"
   ]
  },
  {
   "cell_type": "markdown",
   "id": "79fb624b",
   "metadata": {},
   "source": [
    "1. Import libraries"
   ]
  },
  {
   "cell_type": "code",
   "execution_count": null,
   "id": "d51d2c0b",
   "metadata": {},
   "outputs": [],
   "source": [
    "import pandas as pd\n",
    "import numpy as np\n",
    "import matplotlib.pyplot as plt\n",
    "\n",
    "from sklearn.linear_model import LinearRegression\n",
    "from sklearn.model_selection import train_test_split\n",
    "from sklearn.metrics import mean_squared_error, r2_score"
   ]
  },
  {
   "cell_type": "markdown",
   "id": "e2331199",
   "metadata": {},
   "source": [
    "2. Load Dataset"
   ]
  },
  {
   "cell_type": "code",
   "execution_count": null,
   "id": "cee9b6a1",
   "metadata": {},
   "outputs": [],
   "source": [
    "data = pd.read_csv(\"data.csv\")\n",
    "data.head()"
   ]
  },
  {
   "cell_type": "markdown",
   "id": "bf02fd63",
   "metadata": {},
   "source": [
    "3. Exploratory Data Analysis (EDA)"
   ]
  },
  {
   "cell_type": "code",
   "execution_count": null,
   "id": "cb1180b7",
   "metadata": {},
   "outputs": [],
   "source": [
    "print(data.isnull().sum())\n",
    "\n",
    "data['average_score'] = data[['math score', 'reading score', 'writing score']].mean(axis=1)\n",
    "\n",
    "plt.figure(figsize=(6,4))\n",
    "data.groupby('gender')['average_score'].mean().plot(kind='bar', color=['skyblue', 'pink'])\n",
    "plt.title(\"Average Score by Gender\")\n",
    "plt.ylabel(\"Average Score\")\n",
    "plt.show()"
   ]
  },
  {
   "cell_type": "markdown",
   "id": "bca9807d",
   "metadata": {},
   "source": [
    "4. Preprocessing"
   ]
  },
  {
   "cell_type": "code",
   "execution_count": null,
   "id": "f5a0d782",
   "metadata": {},
   "outputs": [],
   "source": [
    "data['gender'] = data['gender'].map({'male':0, 'female':1})\n",
    "data['lunch'] = data['lunch'].map({'standard':1, 'free/reduced':0})\n",
    "data['test preparation course'] = data['test preparation course'].map({'completed':1, 'none':0})\n",
    "\n",
    "X = data[['gender', 'lunch', 'test preparation course']]\n",
    "y = data['average_score']"
   ]
  },
  {
   "cell_type": "markdown",
   "id": "5364ab47",
   "metadata": {},
   "source": [
    "5. Train-Test Split"
   ]
  },
  {
   "cell_type": "code",
   "execution_count": null,
   "id": "2b770fc5",
   "metadata": {},
   "outputs": [],
   "source": [
    "X_train, X_test, y_train, y_test = train_test_split(X, y, test_size=0.2, random_state=42)"
   ]
  },
  {
   "cell_type": "markdown",
   "id": "2b15285f",
   "metadata": {},
   "source": [
    "6. Train Linear Regression Model"
   ]
  },
  {
   "cell_type": "code",
   "execution_count": null,
   "id": "99ace3ae",
   "metadata": {},
   "outputs": [],
   "source": [
    "model = LinearRegression()\n",
    "model.fit(X_train, y_train)"
   ]
  },
  {
   "cell_type": "markdown",
   "id": "ac5ca610",
   "metadata": {},
   "source": [
    "7. Evaluate Model"
   ]
  },
  {
   "cell_type": "code",
   "execution_count": null,
   "id": "02cd7239",
   "metadata": {},
   "outputs": [],
   "source": [
    "y_pred = model.predict(X_test)\n",
    "\n",
    "mse = mean_squared_error(y_test, y_pred)\n",
    "r2 = r2_score(y_test, y_pred)\n",
    "\n",
    "print(f\"Mean Squared Error: {mse:.2f}\")\n",
    "print(f\"R² Score: {r2:.2f}\")"
   ]
  },
  {
   "cell_type": "markdown",
   "id": "79ef47c2",
   "metadata": {},
   "source": [
    "8. Sample Predictions "
   ]
  },
  {
   "cell_type": "code",
   "execution_count": null,
   "id": "c253121d",
   "metadata": {},
   "outputs": [],
   "source": [
    "sample = X_test[:5]\n",
    "predictions = model.predict(sample)\n",
    "\n",
    "print(\"Sample Input:\")\n",
    "print(sample)\n",
    "print(\"\\nPredicted Average Scores:\")\n",
    "print(predictions)"
   ]
  },
  {
   "cell_type": "markdown",
   "id": "5b38ca3a",
   "metadata": {},
   "source": [
    "9. Visualize Predictions vs Actual"
   ]
  },
  {
   "cell_type": "code",
   "execution_count": null,
   "id": "f5b15382",
   "metadata": {},
   "outputs": [],
   "source": [
    "plt.figure(figsize=(6,4))\n",
    "plt.scatter(y_test, y_pred, color='purple')\n",
    "plt.xlabel(\"Actual Average Score\")\n",
    "plt.ylabel(\"Predicted Average Score\")\n",
    "plt.title(\"Actual vs Predicted Scores\")\n",
    "plt.show()"
   ]
  }
 ],
 "metadata": {
  "kernelspec": {
   "display_name": "Python 3",
   "language": "python",
   "name": "python3"
  },
  "language_info": {
   "codemirror_mode": {
    "name": "ipython",
    "version": 3
   },
   "file_extension": ".py",
   "mimetype": "text/x-python",
   "name": "python",
   "nbconvert_exporter": "python",
   "pygments_lexer": "ipython3",
   "version": "3.13.9"
  }
 },
 "nbformat": 4,
 "nbformat_minor": 5
}
